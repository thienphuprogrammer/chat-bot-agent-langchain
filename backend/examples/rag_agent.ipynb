{
 "cells": [
  {
   "cell_type": "code",
   "outputs": [
    {
     "name": "stdout",
     "output_type": "stream",
     "text": [
      "Collecting arxiv\n",
      "  Downloading arxiv-2.1.3-py3-none-any.whl.metadata (6.1 kB)\n",
      "Collecting feedparser~=6.0.10 (from arxiv)\n",
      "  Downloading feedparser-6.0.11-py3-none-any.whl.metadata (2.4 kB)\n",
      "Requirement already satisfied: requests~=2.32.0 in c:\\users\\ngoct\\.virtualenvs\\chatbot-agent-langchain-meslnlca\\lib\\site-packages (from arxiv) (2.32.3)\n",
      "Collecting sgmllib3k (from feedparser~=6.0.10->arxiv)\n",
      "  Downloading sgmllib3k-1.0.0.tar.gz (5.8 kB)\n",
      "  Installing build dependencies: started\n",
      "  Installing build dependencies: finished with status 'done'\n",
      "  Getting requirements to build wheel: started\n",
      "  Getting requirements to build wheel: finished with status 'done'\n",
      "  Preparing metadata (pyproject.toml): started\n",
      "  Preparing metadata (pyproject.toml): finished with status 'done'\n",
      "Requirement already satisfied: charset-normalizer<4,>=2 in c:\\users\\ngoct\\.virtualenvs\\chatbot-agent-langchain-meslnlca\\lib\\site-packages (from requests~=2.32.0->arxiv) (3.4.1)\n",
      "Requirement already satisfied: idna<4,>=2.5 in c:\\users\\ngoct\\.virtualenvs\\chatbot-agent-langchain-meslnlca\\lib\\site-packages (from requests~=2.32.0->arxiv) (3.10)\n",
      "Requirement already satisfied: urllib3<3,>=1.21.1 in c:\\users\\ngoct\\.virtualenvs\\chatbot-agent-langchain-meslnlca\\lib\\site-packages (from requests~=2.32.0->arxiv) (2.3.0)\n",
      "Requirement already satisfied: certifi>=2017.4.17 in c:\\users\\ngoct\\.virtualenvs\\chatbot-agent-langchain-meslnlca\\lib\\site-packages (from requests~=2.32.0->arxiv) (2024.12.14)\n",
      "Downloading arxiv-2.1.3-py3-none-any.whl (11 kB)\n",
      "Downloading feedparser-6.0.11-py3-none-any.whl (81 kB)\n",
      "Building wheels for collected packages: sgmllib3k\n",
      "  Building wheel for sgmllib3k (pyproject.toml): started\n",
      "  Building wheel for sgmllib3k (pyproject.toml): finished with status 'done'\n",
      "  Created wheel for sgmllib3k: filename=sgmllib3k-1.0.0-py3-none-any.whl size=6061 sha256=74af35ef966cf811f17456a58d2fd6d485b9f29db88e45b773eb5691e303d538\n",
      "  Stored in directory: c:\\users\\ngoct\\appdata\\local\\pip\\cache\\wheels\\03\\f5\\1a\\23761066dac1d0e8e683e5fdb27e12de53209d05a4a37e6246\n",
      "Successfully built sgmllib3k\n",
      "Installing collected packages: sgmllib3k, feedparser, arxiv\n",
      "Successfully installed arxiv-2.1.3 feedparser-6.0.11 sgmllib3k-1.0.0\n"
     ]
    }
   ],
   "source": [
    "!pip install arxiv"
   ],
   "metadata": {
    "collapsed": false,
    "ExecuteTime": {
     "end_time": "2025-01-05T13:45:48.456367800Z",
     "start_time": "2025-01-05T13:45:04.538986Z"
    }
   },
   "id": "1d2c5d848c6912f3",
   "execution_count": 2
  },
  {
   "cell_type": "code",
   "execution_count": 1,
   "id": "initial_id",
   "metadata": {
    "collapsed": true,
    "ExecuteTime": {
     "end_time": "2025-01-05T13:44:40.192714200Z",
     "start_time": "2025-01-05T13:44:33.714891700Z"
    }
   },
   "outputs": [
    {
     "ename": "ImportError",
     "evalue": "Could not import arxiv python package. Please install it with `pip install arxiv`.",
     "output_type": "error",
     "traceback": [
      "\u001B[1;31m---------------------------------------------------------------------------\u001B[0m",
      "\u001B[1;31mModuleNotFoundError\u001B[0m                       Traceback (most recent call last)",
      "File \u001B[1;32m~\\.virtualenvs\\chatbot-agent-langchain-MeslnlcA\\Lib\\site-packages\\langchain_community\\utilities\\arxiv.py:81\u001B[0m, in \u001B[0;36mArxivAPIWrapper.validate_environment\u001B[1;34m(cls, values)\u001B[0m\n\u001B[0;32m     80\u001B[0m \u001B[38;5;28;01mtry\u001B[39;00m:\n\u001B[1;32m---> 81\u001B[0m     \u001B[38;5;28;01mimport\u001B[39;00m \u001B[38;5;21;01marxiv\u001B[39;00m\n\u001B[0;32m     83\u001B[0m     values[\u001B[38;5;124m\"\u001B[39m\u001B[38;5;124marxiv_search\u001B[39m\u001B[38;5;124m\"\u001B[39m] \u001B[38;5;241m=\u001B[39m arxiv\u001B[38;5;241m.\u001B[39mSearch\n",
      "\u001B[1;31mModuleNotFoundError\u001B[0m: No module named 'arxiv'",
      "\nDuring handling of the above exception, another exception occurred:\n",
      "\u001B[1;31mImportError\u001B[0m                               Traceback (most recent call last)",
      "Cell \u001B[1;32mIn[1], line 7\u001B[0m\n\u001B[0;32m      4\u001B[0m \u001B[38;5;28;01mfrom\u001B[39;00m \u001B[38;5;21;01mlangchain_ollama\u001B[39;00m \u001B[38;5;28;01mimport\u001B[39;00m OllamaEmbeddings\n\u001B[0;32m      6\u001B[0m \u001B[38;5;66;03m# Load the document pertaining to a particular topic\u001B[39;00m\n\u001B[1;32m----> 7\u001B[0m docs \u001B[38;5;241m=\u001B[39m \u001B[43mArxivLoader\u001B[49m\u001B[43m(\u001B[49m\u001B[43mquery\u001B[49m\u001B[38;5;241;43m=\u001B[39;49m\u001B[38;5;124;43m\"\u001B[39;49m\u001B[38;5;124;43mRetrieval Augmented Generation\u001B[39;49m\u001B[38;5;124;43m\"\u001B[39;49m\u001B[43m,\u001B[49m\u001B[43m \u001B[49m\u001B[43mload_max_docs\u001B[49m\u001B[38;5;241;43m=\u001B[39;49m\u001B[38;5;241;43m5\u001B[39;49m\u001B[43m)\u001B[49m\u001B[38;5;241m.\u001B[39mload()\n\u001B[0;32m      9\u001B[0m \u001B[38;5;66;03m# Split the dpocument into smaller chunks\u001B[39;00m\n\u001B[0;32m     10\u001B[0m text_splitter \u001B[38;5;241m=\u001B[39m RecursiveCharacterTextSplitter\u001B[38;5;241m.\u001B[39mfrom_tiktoken_encoder(\n\u001B[0;32m     11\u001B[0m     chunk_size\u001B[38;5;241m=\u001B[39m\u001B[38;5;241m350\u001B[39m, chunk_overlap\u001B[38;5;241m=\u001B[39m\u001B[38;5;241m50\u001B[39m\n\u001B[0;32m     12\u001B[0m )\n",
      "File \u001B[1;32m~\\.virtualenvs\\chatbot-agent-langchain-MeslnlcA\\Lib\\site-packages\\langchain_community\\document_loaders\\arxiv.py:143\u001B[0m, in \u001B[0;36mArxivLoader.__init__\u001B[1;34m(self, query, doc_content_chars_max, **kwargs)\u001B[0m\n\u001B[0;32m    134\u001B[0m \u001B[38;5;250m\u001B[39m\u001B[38;5;124;03m\"\"\"Initialize with search query to find documents in the Arxiv.\u001B[39;00m\n\u001B[0;32m    135\u001B[0m \u001B[38;5;124;03mSupports all arguments of `ArxivAPIWrapper`.\u001B[39;00m\n\u001B[0;32m    136\u001B[0m \n\u001B[1;32m   (...)\u001B[0m\n\u001B[0;32m    139\u001B[0m \u001B[38;5;124;03m    doc_content_chars_max: cut limit for the length of a document's content\u001B[39;00m\n\u001B[0;32m    140\u001B[0m \u001B[38;5;124;03m\"\"\"\u001B[39;00m  \u001B[38;5;66;03m# noqa: E501\u001B[39;00m\n\u001B[0;32m    142\u001B[0m \u001B[38;5;28mself\u001B[39m\u001B[38;5;241m.\u001B[39mquery \u001B[38;5;241m=\u001B[39m query\n\u001B[1;32m--> 143\u001B[0m \u001B[38;5;28mself\u001B[39m\u001B[38;5;241m.\u001B[39mclient \u001B[38;5;241m=\u001B[39m \u001B[43mArxivAPIWrapper\u001B[49m\u001B[43m(\u001B[49m\n\u001B[0;32m    144\u001B[0m \u001B[43m    \u001B[49m\u001B[43mdoc_content_chars_max\u001B[49m\u001B[38;5;241;43m=\u001B[39;49m\u001B[43mdoc_content_chars_max\u001B[49m\u001B[43m,\u001B[49m\u001B[43m \u001B[49m\u001B[38;5;241;43m*\u001B[39;49m\u001B[38;5;241;43m*\u001B[39;49m\u001B[43mkwargs\u001B[49m\n\u001B[0;32m    145\u001B[0m \u001B[43m\u001B[49m\u001B[43m)\u001B[49m\n",
      "    \u001B[1;31m[... skipping hidden 1 frame]\u001B[0m\n",
      "File \u001B[1;32m~\\.virtualenvs\\chatbot-agent-langchain-MeslnlcA\\Lib\\site-packages\\langchain_community\\utilities\\arxiv.py:91\u001B[0m, in \u001B[0;36mArxivAPIWrapper.validate_environment\u001B[1;34m(cls, values)\u001B[0m\n\u001B[0;32m     89\u001B[0m     values[\u001B[38;5;124m\"\u001B[39m\u001B[38;5;124marxiv_result\u001B[39m\u001B[38;5;124m\"\u001B[39m] \u001B[38;5;241m=\u001B[39m arxiv\u001B[38;5;241m.\u001B[39mResult\n\u001B[0;32m     90\u001B[0m \u001B[38;5;28;01mexcept\u001B[39;00m \u001B[38;5;167;01mImportError\u001B[39;00m:\n\u001B[1;32m---> 91\u001B[0m     \u001B[38;5;28;01mraise\u001B[39;00m \u001B[38;5;167;01mImportError\u001B[39;00m(\n\u001B[0;32m     92\u001B[0m         \u001B[38;5;124m\"\u001B[39m\u001B[38;5;124mCould not import arxiv python package. \u001B[39m\u001B[38;5;124m\"\u001B[39m\n\u001B[0;32m     93\u001B[0m         \u001B[38;5;124m\"\u001B[39m\u001B[38;5;124mPlease install it with `pip install arxiv`.\u001B[39m\u001B[38;5;124m\"\u001B[39m\n\u001B[0;32m     94\u001B[0m     )\n\u001B[0;32m     95\u001B[0m \u001B[38;5;28;01mreturn\u001B[39;00m values\n",
      "\u001B[1;31mImportError\u001B[0m: Could not import arxiv python package. Please install it with `pip install arxiv`."
     ]
    }
   ],
   "source": [
    "from langchain.text_splitter import RecursiveCharacterTextSplitter\n",
    "from langchain_community.document_loaders import ArxivLoader\n",
    "from langchain_community.vectorstores import FAISS\n",
    "from langchain_ollama import OllamaEmbeddings\n",
    "\n",
    "# Load the document pertaining to a particular topic\n",
    "docs = ArxivLoader(query=\"Retrieval Augmented Generation\", load_max_docs=5).load()\n",
    "\n",
    "# Split the dpocument into smaller chunks\n",
    "text_splitter = RecursiveCharacterTextSplitter.from_tiktoken_encoder(\n",
    "    chunk_size=350, chunk_overlap=50\n",
    ")\n",
    "\n",
    "chunked_documents = text_splitter.split_documents(docs)\n",
    "#\n",
    "# Instantiate the Embedding Model\n",
    "embeddings = OllamaEmbeddings(model=\"llama3.1:1b\")\n",
    "# Create Index- Load document chunks into the vectorstore\n",
    "faiss_vectorstore = FAISS.from_documents(\n",
    "    documents=chunked_documents,\n",
    "    embedding=embeddings,\n",
    ")\n",
    "# Create a retriver\n",
    "retriever = faiss_vectorstore.as_retriever()"
   ]
  },
  {
   "cell_type": "code",
   "outputs": [],
   "source": [
    "from langchain_core.prompts import ChatPromptTemplate\n",
    "\n",
    "RAG_PROMPT = \"\"\"\\\n",
    "Use the following context to answer the user's query. If you cannot answer the question, please respond with 'I don't know'.\n",
    "\n",
    "Question:\n",
    "{question}\n",
    "\n",
    "Context:\n",
    "{context}\n",
    "\"\"\"\n",
    "\n",
    "rag_prompt = ChatPromptTemplate.from_template(RAG_PROMPT)"
   ],
   "metadata": {
    "collapsed": false
   },
   "id": "51b9809922c8019"
  },
  {
   "cell_type": "code",
   "outputs": [],
   "source": [
    "from langchain_ollama import ChatOllama\n",
    "\n",
    "chat_model = ChatOllama(model=\"llama3.1:1b\")"
   ],
   "metadata": {
    "collapsed": false
   },
   "id": "44af1895acf03922"
  },
  {
   "cell_type": "code",
   "outputs": [],
   "source": [
    "from operator import itemgetter\n",
    "from langchain.schema.runnable import RunnablePassthrough\n",
    "\n",
    "retrieval_augmented_generation_chain = (\n",
    "        {\n",
    "            \"context\": itemgetter(\"question\") | retriever,\n",
    "            \"question\": itemgetter(\"question\")\n",
    "        }\n",
    "        | RunnablePassthrough.assign(context=itemgetter(\"context\"))\n",
    "        | {\n",
    "            \"response\": rag_prompt | chat_model,\n",
    "            \"context\": itemgetter(\"context\")\n",
    "        }\n",
    ")\n",
    "#\n",
    "retrieval_augmented_generation_chain"
   ],
   "metadata": {
    "collapsed": false
   },
   "id": "c229347a4cb6fd61"
  },
  {
   "cell_type": "code",
   "outputs": [],
   "source": [
    "await retrieval_augmented_generation_chain.ainvoke({\"question\": \"What is Retrieval Augmented Generation?\"})\n"
   ],
   "metadata": {
    "collapsed": false
   },
   "id": "676b07d8a8142b0d"
  },
  {
   "cell_type": "code",
   "outputs": [
    {
     "name": "stderr",
     "output_type": "stream",
     "text": [
      "C:\\Users\\ngoct\\AppData\\Local\\Temp\\ipykernel_12340\\488280549.py:10: LangGraphDeprecationWarning: ToolExecutor is deprecated as of version 0.2.0 and will be removed in 0.3.0. Use langgraph.prebuilt.ToolNode instead.\n",
      "  tool_executor = ToolExecutor(tool_belt)\n"
     ]
    }
   ],
   "source": [
    "from langchain_community.tools.ddg_search import DuckDuckGoSearchRun\n",
    "from langchain_community.tools.arxiv.tool import ArxivQueryRun\n",
    "from langgraph.prebuilt import ToolExecutor\n",
    "\n",
    "tool_belt = [\n",
    "    DuckDuckGoSearchRun(),\n",
    "    ArxivQueryRun()\n",
    "]\n",
    "\n",
    "tool_executor = ToolExecutor(tool_belt)"
   ],
   "metadata": {
    "collapsed": false,
    "ExecuteTime": {
     "end_time": "2025-01-05T13:56:42.001138Z",
     "start_time": "2025-01-05T13:56:41.990613Z"
    }
   },
   "id": "2d6e046a38e8e497",
   "execution_count": 7
  },
  {
   "cell_type": "code",
   "outputs": [],
   "source": [
    "from dotenv import load_dotenv\n",
    "\n",
    "load_dotenv()"
   ],
   "metadata": {
    "collapsed": false
   },
   "id": "1af303c3bd4fe1a"
  },
  {
   "cell_type": "code",
   "outputs": [],
   "source": [
    "from langchain_openai import ChatOpenAI\n",
    "from langchain_core.utils.function_calling import convert_to_openai_function\n",
    "\n",
    "#\n",
    "model = ChatOpenAI(temperature=0)\n",
    "#\n",
    "functions = [convert_to_openai_function(t) for t in tool_belt]\n",
    "model = model.bind_functions(functions)"
   ],
   "metadata": {
    "collapsed": false
   },
   "id": "75d3a7f4ca4e28fd"
  },
  {
   "cell_type": "code",
   "outputs": [],
   "source": [
    "from typing import TypedDict, Annotated, Sequence\n",
    "import operator\n",
    "from langchain_core.messages import BaseMessage\n",
    "\n",
    "\n",
    "class AgentState(TypedDict):\n",
    "    messages: Annotated[Sequence[BaseMessage], operator.add]"
   ],
   "metadata": {
    "collapsed": false,
    "ExecuteTime": {
     "end_time": "2025-01-05T14:07:42.229144700Z",
     "start_time": "2025-01-05T14:07:42.218216900Z"
    }
   },
   "id": "8a3a259aa8758d2f",
   "execution_count": 10
  },
  {
   "cell_type": "code",
   "outputs": [],
   "source": [
    "\n",
    "\n",
    "\n",
    "def call_model(state):\n",
    "    # messages = state[\"messages\"]\n",
    "    # response = model.invoke(messages)\n",
    "    # return {\"messages\": [response]}\n",
    "    return None\n",
    "\n",
    "\n",
    "def call_tool(state):\n",
    "    # last_message = state[\"messages\"][-1]\n",
    "    # \n",
    "    # action = ToolInvocation(\n",
    "    #     tool=last_message.additional_kwargs[\"function_call\"][\"name\"],\n",
    "    #     tool_input=json.loads(\n",
    "    #         last_message.additional_kwargs[\"function_call\"][\"arguments\"]\n",
    "    #     )\n",
    "    # )\n",
    "    # \n",
    "    # response = tool_executor.invoke(action)\n",
    "    # \n",
    "    # function_message = FunctionMessage(content=str(response), name=action.tool)\n",
    "    # \n",
    "    # return {\"messages\": [function_message]}\n",
    "    return None"
   ],
   "metadata": {
    "collapsed": false,
    "ExecuteTime": {
     "end_time": "2025-01-05T14:07:35.017196100Z",
     "start_time": "2025-01-05T14:07:35.005195700Z"
    }
   },
   "id": "79a3875efa1cf4a0",
   "execution_count": 8
  },
  {
   "cell_type": "code",
   "outputs": [
    {
     "data": {
      "text/plain": "{'agent': StateNodeSpec(runnable=agent(tags=None, recurse=True, func_accepts_config=False, func_accepts={'writer': False, 'store': False}), metadata=None, input=<class '__main__.AgentState'>, retry_policy=None, ends=()),\n 'action': StateNodeSpec(runnable=action(tags=None, recurse=True, func_accepts_config=False, func_accepts={'writer': False, 'store': False}), metadata=None, input=<class '__main__.AgentState'>, retry_policy=None, ends=())}"
     },
     "execution_count": 11,
     "metadata": {},
     "output_type": "execute_result"
    }
   ],
   "source": [
    "from langgraph.graph import StateGraph, END\n",
    "\n",
    "workflow = StateGraph(AgentState)\n",
    "\n",
    "workflow.add_node(\"agent\", call_model)\n",
    "workflow.add_node(\"action\", call_tool)\n",
    "workflow.nodes"
   ],
   "metadata": {
    "collapsed": false,
    "ExecuteTime": {
     "end_time": "2025-01-05T14:07:46.352880700Z",
     "start_time": "2025-01-05T14:07:46.320703400Z"
    }
   },
   "id": "2f2198320880448",
   "execution_count": 11
  },
  {
   "cell_type": "code",
   "outputs": [
    {
     "data": {
      "text/plain": "<langgraph.graph.state.StateGraph at 0x25c8c944440>"
     },
     "execution_count": 12,
     "metadata": {},
     "output_type": "execute_result"
    }
   ],
   "source": [
    "workflow.set_entry_point(\"agent\")"
   ],
   "metadata": {
    "collapsed": false,
    "ExecuteTime": {
     "end_time": "2025-01-05T14:07:51.797259500Z",
     "start_time": "2025-01-05T14:07:51.781421900Z"
    }
   },
   "id": "8e64b4e9420666a8",
   "execution_count": 12
  },
  {
   "cell_type": "code",
   "outputs": [
    {
     "data": {
      "text/plain": "<langgraph.graph.state.StateGraph at 0x25c8c944440>"
     },
     "execution_count": 13,
     "metadata": {},
     "output_type": "execute_result"
    }
   ],
   "source": [
    "def should_continue(state):\n",
    "    last_message = state[\"messages\"][-1]\n",
    "\n",
    "    if \"function_call\" not in last_message.additional_kwargs:\n",
    "        return \"end\"\n",
    "\n",
    "    return \"continue\"\n",
    "\n",
    "\n",
    "workflow.add_conditional_edges(\n",
    "    \"agent\",\n",
    "    should_continue,\n",
    "    {\n",
    "        \"continue\": \"action\",\n",
    "        \"end\": END\n",
    "    }\n",
    ")"
   ],
   "metadata": {
    "collapsed": false,
    "ExecuteTime": {
     "end_time": "2025-01-05T14:07:54.692671700Z",
     "start_time": "2025-01-05T14:07:54.673185700Z"
    }
   },
   "id": "a6b8eed195029faa",
   "execution_count": 13
  },
  {
   "cell_type": "code",
   "outputs": [
    {
     "data": {
      "text/plain": "<langgraph.graph.state.StateGraph at 0x25c8c944440>"
     },
     "execution_count": 14,
     "metadata": {},
     "output_type": "execute_result"
    }
   ],
   "source": [
    "workflow.add_edge(\"action\", \"agent\")"
   ],
   "metadata": {
    "collapsed": false,
    "ExecuteTime": {
     "end_time": "2025-01-05T14:08:00.493143Z",
     "start_time": "2025-01-05T14:08:00.477914600Z"
    }
   },
   "id": "fbee588f21367fce",
   "execution_count": 14
  },
  {
   "cell_type": "code",
   "outputs": [],
   "source": [
    "app = workflow.compile()"
   ],
   "metadata": {
    "collapsed": false,
    "ExecuteTime": {
     "end_time": "2025-01-05T14:08:02.064155100Z",
     "start_time": "2025-01-05T14:08:02.049140700Z"
    }
   },
   "id": "f0d60652fc34cc3",
   "execution_count": 15
  },
  {
   "cell_type": "code",
   "outputs": [
    {
     "data": {
      "image/png": "[encoded data removed]",
      "text/plain": "<IPython.core.display.Image object>"
     },
     "metadata": {},
     "output_type": "display_data"
    }
   ],
   "source": [
    "from IPython.display import Image, display\n",
    "\n",
    "display(Image(app.get_graph().draw_mermaid_png()))"
   ],
   "metadata": {
    "collapsed": false,
    "ExecuteTime": {
     "end_time": "2025-01-05T14:08:06.662687800Z",
     "start_time": "2025-01-05T14:08:03.195366600Z"
    }
   },
   "id": "5e0536b719fff110",
   "execution_count": 16
  },
  {
   "cell_type": "code",
   "outputs": [],
   "source": [
    "from langchain_core.messages import HumanMessage\n",
    "\n",
    "inputs = {\"messages\": [\n",
    "    HumanMessage(content=\"What is RAG in the context of Large Language Models? When did it break onto the scene?\")]}\n",
    "\n",
    "response = app.invoke(inputs)\n",
    "print(response)"
   ],
   "metadata": {
    "collapsed": false
   },
   "id": "fb3a2cffe8c9ae7f"
  }
 ],
 "metadata": {
  "kernelspec": {
   "display_name": "Python 3",
   "language": "python",
   "name": "python3"
  },
  "language_info": {
   "codemirror_mode": {
    "name": "ipython",
    "version": 2
   },
   "file_extension": ".py",
   "mimetype": "text/x-python",
   "name": "python",
   "nbconvert_exporter": "python",
   "pygments_lexer": "ipython2",
   "version": "2.7.6"
  }
 },
 "nbformat": 4,
 "nbformat_minor": 5
}
